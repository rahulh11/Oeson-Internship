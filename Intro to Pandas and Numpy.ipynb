{
 "cells": [
  {
   "cell_type": "markdown",
   "id": "821967d8",
   "metadata": {},
   "source": [
    "# Intro to Pandas and Numpy"
   ]
  },
  {
   "cell_type": "code",
   "execution_count": 40,
   "id": "1dd0e654",
   "metadata": {},
   "outputs": [],
   "source": [
    "import numpy as np \n",
    "import pandas as pd"
   ]
  },
  {
   "cell_type": "markdown",
   "id": "4dbc39f2",
   "metadata": {},
   "source": [
    "## Numpy"
   ]
  },
  {
   "cell_type": "code",
   "execution_count": 33,
   "id": "a426fa52",
   "metadata": {},
   "outputs": [
    {
     "name": "stdout",
     "output_type": "stream",
     "text": [
      "[1 2 3 4 5] \n",
      "\n",
      "[0. 0. 0. 0. 0.] \n",
      "\n",
      "[[1. 1. 1.]\n",
      " [1. 1. 1.]\n",
      " [1. 1. 1.]] \n",
      "\n",
      "[0 2 4 6 8] \n",
      "\n",
      "[[7.06793629e-01 4.49422946e-01 8.88616610e-01]\n",
      " [1.86019814e-01 9.10802004e-01 3.36629512e-01]\n",
      " [3.82087676e-04 6.00743145e-01 8.54813655e-01]] \n",
      "\n",
      "(5,) \n",
      "\n",
      "5 \n",
      "\n",
      "int64 \n",
      "\n",
      "1 \n",
      "\n",
      "[2 3 4]\n"
     ]
    }
   ],
   "source": [
    "#standard array\n",
    "arr1 = np.array([1,2,3,4,5])\n",
    "print(arr1, \"\\n\")\n",
    "\n",
    "#array of zeros\n",
    "arr2 = np.zeros(5)\n",
    "print(arr2, \"\\n\")\n",
    "\n",
    "#3x3 matrix of 1s\n",
    "arr3 = np.ones((3,3))\n",
    "print(arr3, \"\\n\")\n",
    "\n",
    "#Every 2nd number from 0 - 10\n",
    "arr4 = np.arange(0,10,2)\n",
    "print(arr4, \"\\n\")\n",
    "\n",
    "#random 3x3 matrix\n",
    "arr5 = np.random.rand(3,3)\n",
    "print(arr5, \"\\n\")\n",
    "\n",
    "#the shape of arr1\n",
    "print(arr1.shape, \"\\n\")\n",
    "\n",
    "#size of arr1\n",
    "print(arr1.size, \"\\n\")\n",
    "\n",
    "#type of data in arr1\n",
    "print(arr1.dtype, \"\\n\")\n",
    "\n",
    "#indexing \n",
    "print(arr1[0], \"\\n\")\n",
    "#slicing \n",
    "print(arr1[1:4])"
   ]
  },
  {
   "cell_type": "code",
   "execution_count": 34,
   "id": "474abc77",
   "metadata": {},
   "outputs": [
    {
     "name": "stdout",
     "output_type": "stream",
     "text": [
      "[1. 2. 3. 4. 5.] \n",
      "\n",
      "15 \n",
      "\n",
      "[ 2  4  6  8 10] \n",
      "\n",
      "[[0 1 2]\n",
      " [3 4 5]\n",
      " [6 7 8]] \n",
      "\n"
     ]
    }
   ],
   "source": [
    "#adding arr1 and arr3\n",
    "arr6 = arr1 + arr2\n",
    "print(arr6, \"\\n\")\n",
    "\n",
    "#sum of all elemnts of arr1\n",
    "print(np.sum(arr1), \"\\n\")\n",
    "\n",
    "#multiplying each element in array by 2 \n",
    "arr7 = arr1 * 2 \n",
    "print(arr7, \"\\n\")\n",
    "\n",
    "#arranging 9 elements are creating 3x3 array\n",
    "arr8 = np.arange(9).reshape(3,3)\n",
    "print(arr8, \"\\n\")"
   ]
  },
  {
   "cell_type": "code",
   "execution_count": 27,
   "id": "00c6de85",
   "metadata": {},
   "outputs": [
    {
     "name": "stdout",
     "output_type": "stream",
     "text": [
      "[[0 1 2]\n",
      " [3 4 5]\n",
      " [6 7 8]\n",
      " [0 1 2]\n",
      " [3 4 5]\n",
      " [6 7 8]]\n",
      "\n",
      " [[0 1 2]\n",
      " [3 4 5]\n",
      " [6 7 8]] [[0 1 2]\n",
      " [3 4 5]\n",
      " [6 7 8]] \n",
      "\n",
      "[[0 3 6]\n",
      " [1 4 7]\n",
      " [2 5 8]] \n",
      "\n",
      "[ 0.84147098  0.90929743  0.14112001 -0.7568025  -0.95892427]\n"
     ]
    }
   ],
   "source": [
    "#stacking arrays vertically \n",
    "arr9 = np.vstack((arr8, arr8))\n",
    "print(arr9)\n",
    "\n",
    "#splitting arrays\n",
    "arr10, arr11 = np.split(arr9, 2)\n",
    "print(\"\\n\",arr10, arr11,\"\\n\")\n",
    "\n",
    "#transpose\n",
    "arr12 = arr8.T\n",
    "print(arr12, \"\\n\")\n",
    "\n",
    "#Universal function (ufuncs)\n",
    "arr13 = np.sin(arr1)\n",
    "print(arr13)"
   ]
  },
  {
   "cell_type": "code",
   "execution_count": 36,
   "id": "8af49f87",
   "metadata": {},
   "outputs": [
    {
     "name": "stdout",
     "output_type": "stream",
     "text": [
      "[1 3 5] \n",
      "\n",
      "[4 5] \n",
      "\n",
      "[11 12 13 14 15] \n",
      "\n",
      "[[11 12 13 14 15]\n",
      " [21 22 23 24 25]\n",
      " [31 32 33 34 35]\n",
      " [41 42 43 44 45]\n",
      " [51 52 53 54 55]] \n",
      "\n"
     ]
    }
   ],
   "source": [
    "#Fancy indexing \n",
    "#prints 0th, 2nd and 4th element of arr1\n",
    "indicies = np.array([0,2,4])\n",
    "print(arr1[indicies], \"\\n\")\n",
    "\n",
    "#Boolean indexing \n",
    "#will print all values in arr1 that are > 3\n",
    "bool_arr = arr1 > 3 \n",
    "print(arr1[bool_arr], \"\\n\")\n",
    "\n",
    "#Adding 10 to arr1\n",
    "arr14 = arr1 + 10 \n",
    "print(arr14, \"\\n\")\n",
    "\n",
    "#Broadcasting\n",
    "arr15 = arr1 + np.array([[10], [20], [30], [40], [50]])\n",
    "print(arr15 , \"\\n\")"
   ]
  },
  {
   "cell_type": "code",
   "execution_count": 38,
   "id": "f150db84",
   "metadata": {},
   "outputs": [
    {
     "name": "stdout",
     "output_type": "stream",
     "text": [
      "[[19 22]\n",
      " [43 50]]\n"
     ]
    }
   ],
   "source": [
    "A = np.array([[1,2], [3,4]])\n",
    "B = np.array([[5,6], [7,8]])\n",
    "\n",
    "C = np.dot(A,B)\n",
    "print(C)"
   ]
  },
  {
   "cell_type": "code",
   "execution_count": 39,
   "id": "c21d9f1a",
   "metadata": {},
   "outputs": [
    {
     "name": "stdout",
     "output_type": "stream",
     "text": [
      "[[-2.   1. ]\n",
      " [ 1.5 -0.5]]\n"
     ]
    }
   ],
   "source": [
    "A_inv = np.linalg.inv(A)\n",
    "print(A_inv)"
   ]
  },
  {
   "cell_type": "markdown",
   "id": "517e3ee3",
   "metadata": {},
   "source": [
    "## Pandas"
   ]
  },
  {
   "cell_type": "code",
   "execution_count": 43,
   "id": "e9b69d0b",
   "metadata": {},
   "outputs": [
    {
     "name": "stdout",
     "output_type": "stream",
     "text": [
      "1 \n",
      "\n",
      "1 \n",
      "\n",
      "a    1\n",
      "b    2\n",
      "dtype: int64 \n",
      "\n"
     ]
    }
   ],
   "source": [
    "#Create Series from a list\n",
    "s1 = pd.Series([1, 2, 3, 4, 5])\n",
    "\n",
    "#Create Series from an Array\n",
    "s2 = pd.Series(np.array([1, 2, 3, 4, 5]))\n",
    "\n",
    "#Create Series from dictionary\n",
    "s3 = pd.Series({'a': 1, 'b': 2, 'c': 3})\n",
    "\n",
    "print(s3['a'], \"\\n\")\n",
    "\n",
    "print(s3[0], \"\\n\")\n",
    "\n",
    "print(s3[:2], \"\\n\")"
   ]
  },
  {
   "cell_type": "code",
   "execution_count": 44,
   "id": "bc70e850",
   "metadata": {},
   "outputs": [
    {
     "name": "stdout",
     "output_type": "stream",
     "text": [
      "15\n",
      "0    False\n",
      "1    False\n",
      "2    False\n",
      "3    False\n",
      "4    False\n",
      "dtype: bool\n"
     ]
    }
   ],
   "source": [
    "s4 = s1 + s2\n",
    "\n",
    "s5 = s1*2\n",
    "\n",
    "print(s1.sum())\n",
    "\n",
    "#drop missing values\n",
    "s6 = s1.dropna()\n",
    "\n",
    "#fill missing values\n",
    "s7 = s1.fillna(0)\n",
    "\n",
    "print(s1.isnull())"
   ]
  },
  {
   "cell_type": "code",
   "execution_count": 45,
   "id": "ac800d0c",
   "metadata": {},
   "outputs": [],
   "source": [
    "#creating data drames \n",
    "\n",
    "#create dataframe from a dictionary\n",
    "\n",
    "data = {'Name': ['Alice', 'Bob', 'Charlie'],\n",
    "       'Age': [25, 30, 35]}\n",
    "\n",
    "df1 = pd.DataFrame(data)\n",
    "\n",
    "#Create DataFrame from a list of lists\n",
    "data = [['Alice', 25], ['Bob', 30], ['Charlie. 35']]\n",
    "df2 = pd.DataFrame(data, columns=['Name', 'Age'])"
   ]
  },
  {
   "cell_type": "code",
   "execution_count": 47,
   "id": "b97a2568",
   "metadata": {},
   "outputs": [
    {
     "name": "stdout",
     "output_type": "stream",
     "text": [
      "Alice \n",
      "\n",
      "    Name  Age\n",
      "0  Alice   25\n",
      "1    Bob   30\n"
     ]
    }
   ],
   "source": [
    "#Indexing and SLicing DataFrames \n",
    "\n",
    "#Label-based indexing \n",
    "\n",
    "print(df1.iloc[0,0], \"\\n\")\n",
    "\n",
    "#Slicing\n",
    "print(df1[:2])"
   ]
  },
  {
   "cell_type": "code",
   "execution_count": 49,
   "id": "7a3e6d55",
   "metadata": {},
   "outputs": [
    {
     "name": "stdout",
     "output_type": "stream",
     "text": [
      "      Name  Age\n",
      "0    Alice   25\n",
      "1      Bob   30\n",
      "2  Charlie   35 \n",
      "\n",
      "      Name  Age\n",
      "2  Charlie   35 \n",
      "\n",
      "0      Alice\n",
      "1        Bob\n",
      "2    Charlie\n",
      "Name: Name, dtype: object \n",
      "\n"
     ]
    }
   ],
   "source": [
    "#Basic operations\n",
    "\n",
    "#Sorting\n",
    "df1_sorted = df1.sort_values(by = 'Age')\n",
    "print(df1_sorted, \"\\n\")\n",
    "\n",
    "#Filtering \n",
    "df1_filtered = df1[df1['Age'] > 30]\n",
    "print(df1_filtered, \"\\n\")\n",
    "\n",
    "#Selecting columns\n",
    "names = df1['Name']\n",
    "print(names, \"\\n\")"
   ]
  },
  {
   "cell_type": "code",
   "execution_count": 50,
   "id": "65132f48",
   "metadata": {},
   "outputs": [],
   "source": [
    "#Data Manipulation\n",
    "\n",
    "#Adding a Column \n",
    "\n",
    "df1['Gender'] = ['Female', 'Male', 'Male']\n",
    "\n",
    "#Deleting a column\n",
    "del df1['Gender']\n",
    "\n",
    "#Updating a Column \n",
    "df1['Age'] = df1['Age'] + 1"
   ]
  },
  {
   "cell_type": "code",
   "execution_count": 51,
   "id": "7a43b31d",
   "metadata": {},
   "outputs": [
    {
     "name": "stdout",
     "output_type": "stream",
     "text": [
      "Name    False\n",
      "Age     False\n",
      "dtype: bool\n"
     ]
    }
   ],
   "source": [
    "#Handling Missing Values \n",
    "\n",
    "# Drop missing values \n",
    "df1_cleaned = df1.dropna()\n",
    "\n",
    "#Fill missing values \n",
    "df1_filled = df1.fillna(0)\n",
    "\n",
    "#Check for missing values \n",
    "print(df1.isnull().any())"
   ]
  },
  {
   "cell_type": "code",
   "execution_count": 54,
   "id": "2b157773",
   "metadata": {},
   "outputs": [],
   "source": [
    "#Data normalization(numerical values only)\n",
    "\n",
    "#Min-Max normalization \n",
    "#df1_normalized = (df1 - df1.min()) / (df1.max() - df1.min())\n",
    "\n",
    "#Standardization \n",
    "#df1_standardized = (df1 - df1.mean()) / df1.std()\n"
   ]
  },
  {
   "cell_type": "code",
   "execution_count": 53,
   "id": "6ce3bda3",
   "metadata": {},
   "outputs": [],
   "source": [
    "#Data aggregation and grouping \n",
    "\n",
    "#Group by age and calculate mean age \n",
    "\n",
    "age_groups = df1.groupby('Age')\n",
    "mean_age = age_groups['Age'].mean()"
   ]
  },
  {
   "cell_type": "code",
   "execution_count": 59,
   "id": "fd76a7b4",
   "metadata": {},
   "outputs": [
    {
     "name": "stdout",
     "output_type": "stream",
     "text": [
      "  key value\n",
      "0  K0    V0\n",
      "1  K1    V1\n",
      "2  K2    V3 \n",
      "\n",
      "  key value\n",
      "0  K1    V1\n",
      "1  K2    V2\n",
      "2  K3    V3 \n",
      "\n",
      "  key value_x value_y\n",
      "0  K0      V0     NaN\n",
      "1  K1      V1      V1\n",
      "2  K2      V3      V2 \n",
      "\n",
      "  key value_x value_y\n",
      "0  K0      V0     NaN\n",
      "1  K1      V1      V1\n",
      "2  K2      V3      V2 \n",
      "\n",
      "  key value_x value_y\n",
      "0  K1      V1      V1\n",
      "1  K2      V3      V2\n",
      "2  K3     NaN      V3 \n",
      "\n",
      "  key value_x value_y\n",
      "0  K0      V0     NaN\n",
      "1  K1      V1      V1\n",
      "2  K2      V3      V2\n",
      "3  K3     NaN      V3 \n",
      "\n"
     ]
    }
   ],
   "source": [
    "#Merging DataFrames\n",
    "\n",
    "#Create sample DataFrames\n",
    "\n",
    "left = pd.DataFrame({'key': ['K0', 'K1', 'K2'], \n",
    "                    'value': ['V0', 'V1', 'V3']})\n",
    "\n",
    "right = pd.DataFrame({'key': ['K1', 'K2', 'K3'], \n",
    "                    'value': ['V1', 'V2', 'V3']})\n",
    "print(left, \"\\n\")\n",
    "print(right, \"\\n\")\n",
    "\n",
    "#Inner Join \n",
    "inner_join = pd.merge(left, right, on = 'key', how = 'left')\n",
    "print(inner_join, \"\\n\")\n",
    "\n",
    "#Left join \n",
    "left_join = pd.merge(left, right, on = 'key', how='left')\n",
    "print(left_join, \"\\n\")\n",
    "\n",
    "#Right join \n",
    "right_join = pd.merge(left, right, on='key', how='right')\n",
    "print(right_join, \"\\n\")\n",
    "\n",
    "#Outer join \n",
    "outer_join = pd.merge(left, right, on='key', how='outer')\n",
    "print(outer_join, \"\\n\")\n"
   ]
  },
  {
   "cell_type": "code",
   "execution_count": 62,
   "id": "03b9da93",
   "metadata": {},
   "outputs": [],
   "source": [
    "#Joining DataFrames\n",
    "\n",
    "#Create sample DataFrames \n",
    "\n",
    "left = pd.DataFrame({'value1': [1, 2, 3]}, index=['a', 'b', 'c'])\n",
    "right = pd.DataFrame({'value2': [4, 5 ,6]}, index=['a', 'b', 'd'])\n",
    "\n",
    "#Join based on index\n",
    "join_df = left.join(right, how='inner')"
   ]
  },
  {
   "cell_type": "code",
   "execution_count": null,
   "id": "667898c0",
   "metadata": {},
   "outputs": [],
   "source": []
  }
 ],
 "metadata": {
  "kernelspec": {
   "display_name": "Python 3 (ipykernel)",
   "language": "python",
   "name": "python3"
  },
  "language_info": {
   "codemirror_mode": {
    "name": "ipython",
    "version": 3
   },
   "file_extension": ".py",
   "mimetype": "text/x-python",
   "name": "python",
   "nbconvert_exporter": "python",
   "pygments_lexer": "ipython3",
   "version": "3.11.4"
  }
 },
 "nbformat": 4,
 "nbformat_minor": 5
}
