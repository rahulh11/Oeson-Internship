{
 "cells": [
  {
   "cell_type": "markdown",
   "id": "735b2c4a",
   "metadata": {},
   "source": [
    "# Control flow in Python \n",
    "\n",
    "1. introduction to control: \n",
    "\n",
    "Control flow in programming refers to the order in which individual statements, instructions, or function calls are exectured or evaluated. Understanding control flow is essential for creating algorithms and solving complex problems \n",
    "\n",
    "2. Conditional Statemnts: \n",
    "\n",
    "Conditional statements allow you to execute certain pieces of codes based on whether a condition is true or false"
   ]
  },
  {
   "cell_type": "markdown",
   "id": "a14de220",
   "metadata": {},
   "source": [
    "## 'if' Statement"
   ]
  },
  {
   "cell_type": "code",
   "execution_count": 1,
   "id": "d5222262",
   "metadata": {},
   "outputs": [
    {
     "name": "stdout",
     "output_type": "stream",
     "text": [
      "x is greater than 5\n"
     ]
    }
   ],
   "source": [
    "x = 10\n",
    "if x > 5:\n",
    "    print(\"x is greater than 5\")"
   ]
  },
  {
   "cell_type": "markdown",
   "id": "5a58b6a6",
   "metadata": {},
   "source": [
    "## 'if else' Statement"
   ]
  },
  {
   "cell_type": "code",
   "execution_count": 2,
   "id": "56556b50",
   "metadata": {},
   "outputs": [
    {
     "name": "stdout",
     "output_type": "stream",
     "text": [
      "x is not greater than 5\n"
     ]
    }
   ],
   "source": [
    "x = 3\n",
    "if x > 5:\n",
    "    print(\"x is greater than 5\")\n",
    "else: \n",
    "    print(\"x is not greater than 5\")"
   ]
  },
  {
   "cell_type": "code",
   "execution_count": 3,
   "id": "4bb4907e",
   "metadata": {},
   "outputs": [
    {
     "name": "stdout",
     "output_type": "stream",
     "text": [
      "x is greater than 5 but less than 15\n"
     ]
    }
   ],
   "source": [
    "# 'if-elif-else' Statement\n",
    "\n",
    "x = 10\n",
    "if x > 15: \n",
    "    print(\"x is greater than 15\")\n",
    "elif x>5: \n",
    "    print(\"x is greater than 5 but less than 15\")\n",
    "else: \n",
    "    print(\"x is 5 or less\")"
   ]
  },
  {
   "cell_type": "markdown",
   "id": "f95c97d5",
   "metadata": {},
   "source": [
    "## Looping Statements"
   ]
  },
  {
   "cell_type": "code",
   "execution_count": 5,
   "id": "8124460b",
   "metadata": {},
   "outputs": [
    {
     "name": "stdout",
     "output_type": "stream",
     "text": [
      "0\n",
      "1\n",
      "2\n",
      "3\n",
      "4\n"
     ]
    }
   ],
   "source": [
    "#for loops \n",
    "\n",
    "for i in range(5):\n",
    "    print(i)"
   ]
  },
  {
   "cell_type": "code",
   "execution_count": 7,
   "id": "530e9501",
   "metadata": {},
   "outputs": [
    {
     "name": "stdout",
     "output_type": "stream",
     "text": [
      "count is:  0\n",
      "count is:  1\n",
      "count is:  2\n",
      "count is:  3\n",
      "count is:  4\n"
     ]
    }
   ],
   "source": [
    "#while loop \n",
    "count = 0\n",
    "while count < 5: \n",
    "    print(\"count is: \", count)\n",
    "    count += 1\n",
    "    "
   ]
  },
  {
   "cell_type": "markdown",
   "id": "58680ff4",
   "metadata": {},
   "source": [
    "## Control Flow Tools"
   ]
  },
  {
   "cell_type": "code",
   "execution_count": 9,
   "id": "a8b3a251",
   "metadata": {},
   "outputs": [
    {
     "name": "stdout",
     "output_type": "stream",
     "text": [
      "0\n",
      "1\n",
      "2\n",
      "3\n",
      "4\n",
      "5\n"
     ]
    }
   ],
   "source": [
    "#break\n",
    "for i in range(10): \n",
    "    print(i)\n",
    "    if i == 5: \n",
    "        break \n",
    "        "
   ]
  },
  {
   "cell_type": "code",
   "execution_count": 10,
   "id": "094ca532",
   "metadata": {},
   "outputs": [
    {
     "name": "stdout",
     "output_type": "stream",
     "text": [
      "1\n",
      "3\n",
      "5\n",
      "7\n",
      "9\n"
     ]
    }
   ],
   "source": [
    "#continue\n",
    "for i in range(10):\n",
    "    if i % 2 == 0: \n",
    "        continue \n",
    "    print(i)"
   ]
  },
  {
   "cell_type": "code",
   "execution_count": 13,
   "id": "acdb15ef",
   "metadata": {},
   "outputs": [
    {
     "name": "stdout",
     "output_type": "stream",
     "text": [
      "1\n",
      "3\n",
      "5\n",
      "7\n",
      "9\n"
     ]
    }
   ],
   "source": [
    "#pass \n",
    "for i in range(10): \n",
    "    if i % 2 == 0: \n",
    "        pass \n",
    "    else: \n",
    "        print(i)"
   ]
  },
  {
   "cell_type": "code",
   "execution_count": 14,
   "id": "da26b0da",
   "metadata": {},
   "outputs": [
    {
     "name": "stdout",
     "output_type": "stream",
     "text": [
      "[1, 3, 5, 7, 9]\n"
     ]
    }
   ],
   "source": [
    "# filter out the even numbers from a list. \n",
    "\n",
    "data = [1, 2, 3, 4, 5, 6, 7, 8, 9, 10]\n",
    "filtered_data = [x for x in data if x %2 !=0]\n",
    "print(filtered_data)"
   ]
  },
  {
   "cell_type": "code",
   "execution_count": 15,
   "id": "86c6b440",
   "metadata": {},
   "outputs": [
    {
     "name": "stdout",
     "output_type": "stream",
     "text": [
      "Sum:  15\n"
     ]
    }
   ],
   "source": [
    "# Calculate the sum of all elements in a lis\n",
    "\n",
    "data = [1, 2, 3, 4, 5]\n",
    "total = 0\n",
    "for num in data: \n",
    "    total += num \n",
    "print(\"Sum: \", total)"
   ]
  },
  {
   "cell_type": "code",
   "execution_count": 21,
   "id": "77331399",
   "metadata": {},
   "outputs": [
    {
     "name": "stdout",
     "output_type": "stream",
     "text": [
      "1\n",
      "2\n",
      "Fizz\n",
      "4\n",
      "Buzz\n",
      "Fizz\n",
      "7\n",
      "8\n",
      "Fizz\n",
      "Buzz\n",
      "11\n",
      "Fizz\n",
      "13\n",
      "14\n",
      "FizzBuzz\n",
      "16\n",
      "17\n",
      "Fizz\n",
      "19\n",
      "Buzz\n",
      "Fizz\n",
      "22\n",
      "23\n",
      "Fizz\n",
      "Buzz\n",
      "26\n",
      "Fizz\n",
      "28\n",
      "29\n",
      "FizzBuzz\n",
      "31\n",
      "32\n",
      "Fizz\n",
      "34\n",
      "Buzz\n",
      "Fizz\n",
      "37\n",
      "38\n",
      "Fizz\n",
      "Buzz\n",
      "41\n",
      "Fizz\n",
      "43\n",
      "44\n",
      "FizzBuzz\n",
      "46\n",
      "47\n",
      "Fizz\n",
      "49\n",
      "Buzz\n"
     ]
    }
   ],
   "source": [
    "# Write a program that prints the numners 1-50 but for multiples of 3 print \"Fizz\" instead\n",
    "\n",
    "for i in range(1, 51): \n",
    "    if i % 3 == 0 and i % 5  == 0:\n",
    "        print('FizzBuzz')\n",
    "    elif i % 3 == 0: \n",
    "        print(\"Fizz\")\n",
    "    elif i % 5 == 0: \n",
    "        print(\"Buzz\")\n",
    "    else:    \n",
    "        print(i)"
   ]
  },
  {
   "cell_type": "code",
   "execution_count": 13,
   "id": "ccf92aae",
   "metadata": {},
   "outputs": [
    {
     "name": "stdout",
     "output_type": "stream",
     "text": [
      "2\n",
      "3\n",
      "5\n",
      "7\n",
      "11\n",
      "13\n",
      "17\n",
      "19\n",
      "23\n",
      "29\n",
      "31\n",
      "37\n",
      "41\n",
      "43\n",
      "47\n",
      "53\n",
      "59\n",
      "61\n",
      "67\n",
      "71\n",
      "73\n",
      "79\n",
      "83\n",
      "89\n",
      "97\n"
     ]
    }
   ],
   "source": [
    "#Write a program to print all the prime numbers between 1 and 100: \n",
    "for num in range(2, 101): \n",
    "    for i in range(2, num -1):\n",
    "        if num % i == 0:\n",
    "            break \n",
    "    else: \n",
    "        print(num)\n",
    "            \n",
    "    \n",
    "    \n",
    "    "
   ]
  },
  {
   "cell_type": "code",
   "execution_count": null,
   "id": "62cbd5c4",
   "metadata": {},
   "outputs": [],
   "source": [
    "# Write a program to print the fobonacci sequence up to 'n terms'\n",
    "# Write a program to calculat eth efactorial of a given number\n",
    "# Write a program to reverse a given string \n",
    "# write a program to check if a given string is a palindrome.\n",
    "# Write a program to count the number of vowels and consonants in a string \n",
    "# Write a program to count the number of vowels and consonats in a string \n",
    "# Write a progrma that removes all duplicates\n",
    "# Write a program to flatten nested list\n",
    "#Write a program that counts the occurrences in a list\n"
   ]
  }
 ],
 "metadata": {
  "kernelspec": {
   "display_name": "Python 3 (ipykernel)",
   "language": "python",
   "name": "python3"
  },
  "language_info": {
   "codemirror_mode": {
    "name": "ipython",
    "version": 3
   },
   "file_extension": ".py",
   "mimetype": "text/x-python",
   "name": "python",
   "nbconvert_exporter": "python",
   "pygments_lexer": "ipython3",
   "version": "3.11.4"
  }
 },
 "nbformat": 4,
 "nbformat_minor": 5
}
